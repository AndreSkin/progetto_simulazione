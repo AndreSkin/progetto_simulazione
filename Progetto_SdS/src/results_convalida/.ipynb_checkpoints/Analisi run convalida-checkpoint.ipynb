{
 "cells": [
  {
   "cell_type": "code",
   "execution_count": 1,
   "id": "1bc078bc",
   "metadata": {},
   "outputs": [],
   "source": [
    "import pandas as pd\n",
    "import numpy as np\n",
    "import matplotlib.pyplot as plt\n",
    "from scipy import stats as st\n",
    "import math\n",
    "\n",
    "# carica i dati dal file CSV\n",
    "data = pd.read_csv('./scalars_conv.csv')"
   ]
  },
  {
   "cell_type": "code",
   "execution_count": 2,
   "id": "71a2c3c9",
   "metadata": {},
   "outputs": [],
   "source": [
    "def mean_CI(elem):\n",
    "    #Trasformo elem in un array\n",
    "    elemAsArray = np.asarray(elem[['value']],dtype=np.float64)\n",
    "    #Rimuovo eventuali NaN\n",
    "    elemAsArray = elemAsArray[np.isfinite(elemAsArray)]\n",
    "    #Calcolo la media degli elementi\n",
    "    elemMean = elemAsArray.mean()\n",
    "\n",
    "    #https://stackoverflow.com/questions/28242593/correct-way-to-obtain-confidence-interval-with-scipy\n",
    "    #Calcolo la deviazione standard\n",
    "    stdDev = np.std(elemAsArray)\n",
    "    #Calcolo degli intervalli di confidenza al 95%\n",
    "    CI = st.norm.interval(0.95, loc=elemMean, scale=stdDev/math.sqrt(len(elemAsArray)))\n",
    "    \n",
    "    print(f\"Mean: {elemMean:.4f}, 95% CI: ({CI[0]:.4f}, {CI[1]:.4f})\")\n",
    "    \n",
    "    return elemMean, CI"
   ]
  },
  {
   "cell_type": "code",
   "execution_count": 3,
   "id": "c0a5378f",
   "metadata": {},
   "outputs": [],
   "source": [
    "\n",
    "\n",
    "#Tempo medio di permanenza (s)\n",
    "#E[Wi]\n",
    "\n"
   ]
  },
  {
   "cell_type": "code",
   "execution_count": 4,
   "id": "8f8f97e2",
   "metadata": {},
   "outputs": [
    {
     "name": "stdout",
     "output_type": "stream",
     "text": [
      "Mean: 466.9348, 95% CI: (415.7875, 518.0821)\n"
     ]
    }
   ],
   "source": [
    "first_queue_time = data[(data.type=='scalar') &(data.module == 'Network.first') & (data.name == 'queueingTime:mean')]\n",
    "\n",
    "time1_mean, time1_CI= mean_CI(first_queue_time)"
   ]
  },
  {
   "cell_type": "code",
   "execution_count": 5,
   "id": "14d8a406",
   "metadata": {},
   "outputs": [
    {
     "name": "stdout",
     "output_type": "stream",
     "text": [
      "Mean: 482.2466, 95% CI: (83.8289, 880.6642)\n"
     ]
    }
   ],
   "source": [
    "second_queue_time = data[(data.type=='scalar') &(data.module == 'Network.second') & (data.name == 'queueingTime:mean')]\n",
    "\n",
    "time2_mean, time2_CI= mean_CI(second_queue_time)"
   ]
  },
  {
   "cell_type": "code",
   "execution_count": 6,
   "id": "699a2ed7",
   "metadata": {},
   "outputs": [],
   "source": [
    "\n",
    "\n",
    "#Numero medio di presenza (utenti)\n",
    "#E[Li]\n",
    "\n"
   ]
  },
  {
   "cell_type": "code",
   "execution_count": 7,
   "id": "39c2abd6",
   "metadata": {},
   "outputs": [
    {
     "name": "stdout",
     "output_type": "stream",
     "text": [
      "Mean: 9.9645, 95% CI: (9.9589, 9.9701)\n"
     ]
    }
   ],
   "source": [
    "first_queue_L = data[(data.type=='scalar') &(data.module == 'Network.first') & (data.name == 'queueLength:timeavg')]\n",
    "\n",
    "L1_mean, L1_CI= mean_CI(first_queue_L)"
   ]
  },
  {
   "cell_type": "code",
   "execution_count": 8,
   "id": "ad5b606b",
   "metadata": {},
   "outputs": [
    {
     "name": "stdout",
     "output_type": "stream",
     "text": [
      "Mean: 1498.7363, 95% CI: (1468.5732, 1528.8993)\n"
     ]
    }
   ],
   "source": [
    "second_queue_L = data[(data.type=='scalar') &(data.module == 'Network.second') & (data.name == 'queueLength:timeavg')]\n",
    "\n",
    "L2_mean, L2_CI= mean_CI(second_queue_L)"
   ]
  },
  {
   "cell_type": "code",
   "execution_count": null,
   "id": "6cee8ab8",
   "metadata": {},
   "outputs": [],
   "source": []
  },
  {
   "cell_type": "code",
   "execution_count": 9,
   "id": "9035cdd9",
   "metadata": {},
   "outputs": [
    {
     "name": "stdout",
     "output_type": "stream",
     "text": [
      "E[W_1]: 466.9348298869344\n",
      "E[W_2]: 482.24656898726204\n",
      "E[L_1]: 9.96453004960147\n",
      "E[L_2]: 1498.736265666255\n"
     ]
    }
   ],
   "source": [
    "print(\"E[W_1]:\",time1_mean)\n",
    "print(\"E[W_2]:\",time2_mean)\n",
    "print(\"E[L_1]:\",L1_mean)\n",
    "print(\"E[L_2]:\",L2_mean)"
   ]
  }
 ],
 "metadata": {
  "kernelspec": {
   "display_name": "Python 3 (ipykernel)",
   "language": "python",
   "name": "python3"
  },
  "language_info": {
   "codemirror_mode": {
    "name": "ipython",
    "version": 3
   },
   "file_extension": ".py",
   "mimetype": "text/x-python",
   "name": "python",
   "nbconvert_exporter": "python",
   "pygments_lexer": "ipython3",
   "version": "3.10.0"
  }
 },
 "nbformat": 4,
 "nbformat_minor": 5
}
