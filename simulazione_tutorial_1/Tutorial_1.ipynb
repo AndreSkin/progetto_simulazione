{
 "cells": [
  {
   "cell_type": "code",
   "execution_count": 1,
   "id": "9e204327",
   "metadata": {},
   "outputs": [],
   "source": [
    "import pandas as pd\n",
    "import numpy as np\n",
    "import matplotlib.pyplot as plt"
   ]
  },
  {
   "cell_type": "code",
   "execution_count": 2,
   "id": "b6360338",
   "metadata": {},
   "outputs": [],
   "source": [
    "es_csv = pd.read_csv('./results/es_1.csv')"
   ]
  },
  {
   "cell_type": "code",
   "execution_count": 3,
   "id": "e5387c85",
   "metadata": {},
   "outputs": [
    {
     "data": {
      "text/html": [
       "<div>\n",
       "<style scoped>\n",
       "    .dataframe tbody tr th:only-of-type {\n",
       "        vertical-align: middle;\n",
       "    }\n",
       "\n",
       "    .dataframe tbody tr th {\n",
       "        vertical-align: top;\n",
       "    }\n",
       "\n",
       "    .dataframe thead th {\n",
       "        text-align: right;\n",
       "    }\n",
       "</style>\n",
       "<table border=\"1\" class=\"dataframe\">\n",
       "  <thead>\n",
       "    <tr style=\"text-align: right;\">\n",
       "      <th></th>\n",
       "      <th>run</th>\n",
       "      <th>type</th>\n",
       "      <th>module</th>\n",
       "      <th>name</th>\n",
       "      <th>attrname</th>\n",
       "      <th>attrvalue</th>\n",
       "      <th>value</th>\n",
       "    </tr>\n",
       "  </thead>\n",
       "  <tbody>\n",
       "    <tr>\n",
       "      <th>0</th>\n",
       "      <td>General-1-20221027-10:37:26-16912</td>\n",
       "      <td>runattr</td>\n",
       "      <td>NaN</td>\n",
       "      <td>NaN</td>\n",
       "      <td>configname</td>\n",
       "      <td>General</td>\n",
       "      <td>NaN</td>\n",
       "    </tr>\n",
       "    <tr>\n",
       "      <th>1</th>\n",
       "      <td>General-1-20221027-10:37:26-16912</td>\n",
       "      <td>runattr</td>\n",
       "      <td>NaN</td>\n",
       "      <td>NaN</td>\n",
       "      <td>datetime</td>\n",
       "      <td>20221027-10:37:26</td>\n",
       "      <td>NaN</td>\n",
       "    </tr>\n",
       "    <tr>\n",
       "      <th>2</th>\n",
       "      <td>General-1-20221027-10:37:26-16912</td>\n",
       "      <td>runattr</td>\n",
       "      <td>NaN</td>\n",
       "      <td>NaN</td>\n",
       "      <td>datetimef</td>\n",
       "      <td>20221027-103726</td>\n",
       "      <td>NaN</td>\n",
       "    </tr>\n",
       "    <tr>\n",
       "      <th>3</th>\n",
       "      <td>General-1-20221027-10:37:26-16912</td>\n",
       "      <td>runattr</td>\n",
       "      <td>NaN</td>\n",
       "      <td>NaN</td>\n",
       "      <td>experiment</td>\n",
       "      <td>General</td>\n",
       "      <td>NaN</td>\n",
       "    </tr>\n",
       "    <tr>\n",
       "      <th>4</th>\n",
       "      <td>General-1-20221027-10:37:26-16912</td>\n",
       "      <td>runattr</td>\n",
       "      <td>NaN</td>\n",
       "      <td>NaN</td>\n",
       "      <td>inifile</td>\n",
       "      <td>simu_1.ini</td>\n",
       "      <td>NaN</td>\n",
       "    </tr>\n",
       "  </tbody>\n",
       "</table>\n",
       "</div>"
      ],
      "text/plain": [
       "                                 run     type module name    attrname  \\\n",
       "0  General-1-20221027-10:37:26-16912  runattr    NaN  NaN  configname   \n",
       "1  General-1-20221027-10:37:26-16912  runattr    NaN  NaN    datetime   \n",
       "2  General-1-20221027-10:37:26-16912  runattr    NaN  NaN   datetimef   \n",
       "3  General-1-20221027-10:37:26-16912  runattr    NaN  NaN  experiment   \n",
       "4  General-1-20221027-10:37:26-16912  runattr    NaN  NaN     inifile   \n",
       "\n",
       "           attrvalue value  \n",
       "0            General   NaN  \n",
       "1  20221027-10:37:26   NaN  \n",
       "2    20221027-103726   NaN  \n",
       "3            General   NaN  \n",
       "4         simu_1.ini   NaN  "
      ]
     },
     "execution_count": 3,
     "metadata": {},
     "output_type": "execute_result"
    }
   ],
   "source": [
    "es_csv.head()"
   ]
  },
  {
   "cell_type": "code",
   "execution_count": 4,
   "id": "20fcb6d5",
   "metadata": {},
   "outputs": [
    {
     "data": {
      "text/html": [
       "<div>\n",
       "<style scoped>\n",
       "    .dataframe tbody tr th:only-of-type {\n",
       "        vertical-align: middle;\n",
       "    }\n",
       "\n",
       "    .dataframe tbody tr th {\n",
       "        vertical-align: top;\n",
       "    }\n",
       "\n",
       "    .dataframe thead th {\n",
       "        text-align: right;\n",
       "    }\n",
       "</style>\n",
       "<table border=\"1\" class=\"dataframe\">\n",
       "  <thead>\n",
       "    <tr style=\"text-align: right;\">\n",
       "      <th></th>\n",
       "      <th>run</th>\n",
       "      <th>type</th>\n",
       "      <th>module</th>\n",
       "      <th>name</th>\n",
       "      <th>attrname</th>\n",
       "      <th>attrvalue</th>\n",
       "      <th>value</th>\n",
       "    </tr>\n",
       "  </thead>\n",
       "  <tbody>\n",
       "    <tr>\n",
       "      <th>1200</th>\n",
       "      <td>General-1-20221027-10:37:26-16912</td>\n",
       "      <td>param</td>\n",
       "      <td>Rete.Arrivi</td>\n",
       "      <td>stopTime</td>\n",
       "      <td>NaN</td>\n",
       "      <td>NaN</td>\n",
       "      <td>-1s</td>\n",
       "    </tr>\n",
       "    <tr>\n",
       "      <th>1201</th>\n",
       "      <td>General-1-20221027-10:37:26-16912</td>\n",
       "      <td>attr</td>\n",
       "      <td>Rete.Arrivi</td>\n",
       "      <td>stopTime</td>\n",
       "      <td>unit</td>\n",
       "      <td>s</td>\n",
       "      <td>NaN</td>\n",
       "    </tr>\n",
       "    <tr>\n",
       "      <th>1202</th>\n",
       "      <td>General-1-20221027-10:37:26-16912</td>\n",
       "      <td>param</td>\n",
       "      <td>Rete.Servente</td>\n",
       "      <td>typename</td>\n",
       "      <td>NaN</td>\n",
       "      <td>NaN</td>\n",
       "      <td>\"org.omnetpp.queueing.Queue\"</td>\n",
       "    </tr>\n",
       "    <tr>\n",
       "      <th>1203</th>\n",
       "      <td>General-1-20221027-10:37:26-16912</td>\n",
       "      <td>param</td>\n",
       "      <td>Rete.Servente</td>\n",
       "      <td>capacity</td>\n",
       "      <td>NaN</td>\n",
       "      <td>NaN</td>\n",
       "      <td>-1</td>\n",
       "    </tr>\n",
       "    <tr>\n",
       "      <th>1204</th>\n",
       "      <td>General-1-20221027-10:37:26-16912</td>\n",
       "      <td>param</td>\n",
       "      <td>Rete.Servente</td>\n",
       "      <td>fifo</td>\n",
       "      <td>NaN</td>\n",
       "      <td>NaN</td>\n",
       "      <td>true</td>\n",
       "    </tr>\n",
       "  </tbody>\n",
       "</table>\n",
       "</div>"
      ],
      "text/plain": [
       "                                    run   type         module      name  \\\n",
       "1200  General-1-20221027-10:37:26-16912  param    Rete.Arrivi  stopTime   \n",
       "1201  General-1-20221027-10:37:26-16912   attr    Rete.Arrivi  stopTime   \n",
       "1202  General-1-20221027-10:37:26-16912  param  Rete.Servente  typename   \n",
       "1203  General-1-20221027-10:37:26-16912  param  Rete.Servente  capacity   \n",
       "1204  General-1-20221027-10:37:26-16912  param  Rete.Servente      fifo   \n",
       "\n",
       "     attrname attrvalue                         value  \n",
       "1200      NaN       NaN                           -1s  \n",
       "1201     unit         s                           NaN  \n",
       "1202      NaN       NaN  \"org.omnetpp.queueing.Queue\"  \n",
       "1203      NaN       NaN                            -1  \n",
       "1204      NaN       NaN                          true  "
      ]
     },
     "execution_count": 4,
     "metadata": {},
     "output_type": "execute_result"
    }
   ],
   "source": [
    "es_csv.iloc[1200:1205]"
   ]
  },
  {
   "cell_type": "code",
   "execution_count": 5,
   "id": "baad7480",
   "metadata": {},
   "outputs": [],
   "source": [
    "pd.set_option('display.width', 180)\n",
    "pd.set_option('display.max_colwidth', 100)"
   ]
  },
  {
   "cell_type": "code",
   "execution_count": 6,
   "id": "c572885f",
   "metadata": {},
   "outputs": [
    {
     "data": {
      "text/plain": [
       "0    General-1-20221027-10:37:26-16912\n",
       "1    General-1-20221027-10:37:26-16912\n",
       "2    General-1-20221027-10:37:26-16912\n",
       "3    General-1-20221027-10:37:26-16912\n",
       "4    General-1-20221027-10:37:26-16912\n",
       "Name: run, dtype: object"
      ]
     },
     "execution_count": 6,
     "metadata": {},
     "output_type": "execute_result"
    }
   ],
   "source": [
    "es_csv.run.head()"
   ]
  },
  {
   "cell_type": "code",
   "execution_count": 7,
   "id": "e703e752",
   "metadata": {},
   "outputs": [
    {
     "data": {
      "text/html": [
       "<div>\n",
       "<style scoped>\n",
       "    .dataframe tbody tr th:only-of-type {\n",
       "        vertical-align: middle;\n",
       "    }\n",
       "\n",
       "    .dataframe tbody tr th {\n",
       "        vertical-align: top;\n",
       "    }\n",
       "\n",
       "    .dataframe thead th {\n",
       "        text-align: right;\n",
       "    }\n",
       "</style>\n",
       "<table border=\"1\" class=\"dataframe\">\n",
       "  <thead>\n",
       "    <tr style=\"text-align: right;\">\n",
       "      <th></th>\n",
       "      <th>run</th>\n",
       "      <th>attrname</th>\n",
       "      <th>attrvalue</th>\n",
       "    </tr>\n",
       "  </thead>\n",
       "  <tbody>\n",
       "    <tr>\n",
       "      <th>0</th>\n",
       "      <td>General-1-20221027-10:37:26-16912</td>\n",
       "      <td>configname</td>\n",
       "      <td>General</td>\n",
       "    </tr>\n",
       "    <tr>\n",
       "      <th>1</th>\n",
       "      <td>General-1-20221027-10:37:26-16912</td>\n",
       "      <td>datetime</td>\n",
       "      <td>20221027-10:37:26</td>\n",
       "    </tr>\n",
       "    <tr>\n",
       "      <th>2</th>\n",
       "      <td>General-1-20221027-10:37:26-16912</td>\n",
       "      <td>datetimef</td>\n",
       "      <td>20221027-103726</td>\n",
       "    </tr>\n",
       "    <tr>\n",
       "      <th>3</th>\n",
       "      <td>General-1-20221027-10:37:26-16912</td>\n",
       "      <td>experiment</td>\n",
       "      <td>General</td>\n",
       "    </tr>\n",
       "    <tr>\n",
       "      <th>4</th>\n",
       "      <td>General-1-20221027-10:37:26-16912</td>\n",
       "      <td>inifile</td>\n",
       "      <td>simu_1.ini</td>\n",
       "    </tr>\n",
       "  </tbody>\n",
       "</table>\n",
       "</div>"
      ],
      "text/plain": [
       "                                 run    attrname          attrvalue\n",
       "0  General-1-20221027-10:37:26-16912  configname            General\n",
       "1  General-1-20221027-10:37:26-16912    datetime  20221027-10:37:26\n",
       "2  General-1-20221027-10:37:26-16912   datetimef    20221027-103726\n",
       "3  General-1-20221027-10:37:26-16912  experiment            General\n",
       "4  General-1-20221027-10:37:26-16912     inifile         simu_1.ini"
      ]
     },
     "execution_count": 7,
     "metadata": {},
     "output_type": "execute_result"
    }
   ],
   "source": [
    "tmp = es_csv[['run', 'attrname', 'attrvalue']]\n",
    "tmp.head()"
   ]
  },
  {
   "cell_type": "code",
   "execution_count": 8,
   "id": "90d398f2",
   "metadata": {},
   "outputs": [
    {
     "data": {
      "text/plain": [
       "count           1130\n",
       "unique             4\n",
       "top       Rete.Pozzo\n",
       "freq             660\n",
       "Name: module, dtype: object"
      ]
     },
     "execution_count": 8,
     "metadata": {},
     "output_type": "execute_result"
    }
   ],
   "source": [
    "es_csv.module.describe()"
   ]
  },
  {
   "cell_type": "code",
   "execution_count": 9,
   "id": "542fa416",
   "metadata": {},
   "outputs": [
    {
     "data": {
      "text/plain": [
       "array([nan, 'Rete.Pozzo', 'Rete.Arrivi', 'Rete.Servente', 'Rete'],\n",
       "      dtype=object)"
      ]
     },
     "execution_count": 9,
     "metadata": {},
     "output_type": "execute_result"
    }
   ],
   "source": [
    "es_csv.module.unique()"
   ]
  },
  {
   "cell_type": "code",
   "execution_count": 10,
   "id": "f25c3f08",
   "metadata": {},
   "outputs": [
    {
     "data": {
      "text/plain": [
       "count     360\n",
       "unique    131\n",
       "top         0\n",
       "freq       90\n",
       "Name: value, dtype: object"
      ]
     },
     "execution_count": 10,
     "metadata": {},
     "output_type": "execute_result"
    }
   ],
   "source": [
    "es_csv.value.describe()"
   ]
  },
  {
   "cell_type": "code",
   "execution_count": 11,
   "id": "40f3a39c",
   "metadata": {},
   "outputs": [
    {
     "data": {
      "text/html": [
       "<div>\n",
       "<style scoped>\n",
       "    .dataframe tbody tr th:only-of-type {\n",
       "        vertical-align: middle;\n",
       "    }\n",
       "\n",
       "    .dataframe tbody tr th {\n",
       "        vertical-align: top;\n",
       "    }\n",
       "\n",
       "    .dataframe thead th {\n",
       "        text-align: right;\n",
       "    }\n",
       "</style>\n",
       "<table border=\"1\" class=\"dataframe\">\n",
       "  <thead>\n",
       "    <tr style=\"text-align: right;\">\n",
       "      <th></th>\n",
       "      <th>run</th>\n",
       "      <th>type</th>\n",
       "      <th>module</th>\n",
       "      <th>name</th>\n",
       "      <th>attrname</th>\n",
       "      <th>attrvalue</th>\n",
       "      <th>value</th>\n",
       "    </tr>\n",
       "  </thead>\n",
       "  <tbody>\n",
       "    <tr>\n",
       "      <th>count</th>\n",
       "      <td>1360</td>\n",
       "      <td>1360</td>\n",
       "      <td>1130</td>\n",
       "      <td>1130</td>\n",
       "      <td>1000</td>\n",
       "      <td>960</td>\n",
       "      <td>360</td>\n",
       "    </tr>\n",
       "    <tr>\n",
       "      <th>unique</th>\n",
       "      <td>10</td>\n",
       "      <td>5</td>\n",
       "      <td>4</td>\n",
       "      <td>33</td>\n",
       "      <td>26</td>\n",
       "      <td>62</td>\n",
       "      <td>131</td>\n",
       "    </tr>\n",
       "    <tr>\n",
       "      <th>top</th>\n",
       "      <td>General-1-20221027-10:37:26-16912</td>\n",
       "      <td>attr</td>\n",
       "      <td>Rete.Pozzo</td>\n",
       "      <td>queueingTime:mean</td>\n",
       "      <td>title</td>\n",
       "      <td>none</td>\n",
       "      <td>0</td>\n",
       "    </tr>\n",
       "    <tr>\n",
       "      <th>freq</th>\n",
       "      <td>136</td>\n",
       "      <td>770</td>\n",
       "      <td>660</td>\n",
       "      <td>50</td>\n",
       "      <td>210</td>\n",
       "      <td>180</td>\n",
       "      <td>90</td>\n",
       "    </tr>\n",
       "  </tbody>\n",
       "</table>\n",
       "</div>"
      ],
      "text/plain": [
       "                                      run  type      module               name attrname attrvalue value\n",
       "count                                1360  1360        1130               1130     1000       960   360\n",
       "unique                                 10     5           4                 33       26        62   131\n",
       "top     General-1-20221027-10:37:26-16912  attr  Rete.Pozzo  queueingTime:mean    title      none     0\n",
       "freq                                  136   770         660                 50      210       180    90"
      ]
     },
     "execution_count": 11,
     "metadata": {},
     "output_type": "execute_result"
    }
   ],
   "source": [
    "es_csv.describe()"
   ]
  },
  {
   "cell_type": "code",
   "execution_count": 12,
   "id": "abf37e9a",
   "metadata": {},
   "outputs": [
    {
     "data": {
      "text/plain": [
       "run          object\n",
       "type         object\n",
       "module       object\n",
       "name         object\n",
       "attrname     object\n",
       "attrvalue    object\n",
       "value        object\n",
       "dtype: object"
      ]
     },
     "execution_count": 12,
     "metadata": {},
     "output_type": "execute_result"
    }
   ],
   "source": [
    "es_csv.dtypes"
   ]
  },
  {
   "cell_type": "code",
   "execution_count": 18,
   "id": "eace0e96",
   "metadata": {},
   "outputs": [
    {
     "data": {
      "text/html": [
       "<div>\n",
       "<style scoped>\n",
       "    .dataframe tbody tr th:only-of-type {\n",
       "        vertical-align: middle;\n",
       "    }\n",
       "\n",
       "    .dataframe tbody tr th {\n",
       "        vertical-align: top;\n",
       "    }\n",
       "\n",
       "    .dataframe thead th {\n",
       "        text-align: right;\n",
       "    }\n",
       "</style>\n",
       "<table border=\"1\" class=\"dataframe\">\n",
       "  <thead>\n",
       "    <tr style=\"text-align: right;\">\n",
       "      <th></th>\n",
       "      <th>run</th>\n",
       "      <th>type</th>\n",
       "      <th>module</th>\n",
       "      <th>name</th>\n",
       "      <th>attrname</th>\n",
       "      <th>attrvalue</th>\n",
       "      <th>value</th>\n",
       "    </tr>\n",
       "  </thead>\n",
       "  <tbody>\n",
       "  </tbody>\n",
       "</table>\n",
       "</div>"
      ],
      "text/plain": [
       "Empty DataFrame\n",
       "Columns: [run, type, module, name, attrname, attrvalue, value]\n",
       "Index: []"
      ]
     },
     "execution_count": 18,
     "metadata": {},
     "output_type": "execute_result"
    }
   ],
   "source": [
    "tmp = es_csv[(es_csv.type=='scalar') & (es_csv.module=='es_csv.Rete.Pozzo') & (es_csv.name=='channelUtilization:last')]\n",
    "tmp.head()"
   ]
  },
  {
   "cell_type": "code",
   "execution_count": 14,
   "id": "108672e3",
   "metadata": {},
   "outputs": [
    {
     "data": {
      "text/html": [
       "<div>\n",
       "<style scoped>\n",
       "    .dataframe tbody tr th:only-of-type {\n",
       "        vertical-align: middle;\n",
       "    }\n",
       "\n",
       "    .dataframe tbody tr th {\n",
       "        vertical-align: top;\n",
       "    }\n",
       "\n",
       "    .dataframe thead th {\n",
       "        text-align: right;\n",
       "    }\n",
       "</style>\n",
       "<table border=\"1\" class=\"dataframe\">\n",
       "  <thead>\n",
       "    <tr style=\"text-align: right;\">\n",
       "      <th></th>\n",
       "      <th>run</th>\n",
       "      <th>type</th>\n",
       "      <th>module</th>\n",
       "      <th>name</th>\n",
       "      <th>attrname</th>\n",
       "      <th>attrvalue</th>\n",
       "      <th>value</th>\n",
       "      <th>qname</th>\n",
       "    </tr>\n",
       "  </thead>\n",
       "  <tbody>\n",
       "    <tr>\n",
       "      <th>230</th>\n",
       "      <td>General-0-20221027-10:37:26-16912</td>\n",
       "      <td>scalar</td>\n",
       "      <td>Rete.Pozzo</td>\n",
       "      <td>generation:mean</td>\n",
       "      <td>NaN</td>\n",
       "      <td>NaN</td>\n",
       "      <td>0</td>\n",
       "      <td>Rete.Pozzo.generation:mean</td>\n",
       "    </tr>\n",
       "    <tr>\n",
       "      <th>234</th>\n",
       "      <td>General-0-20221027-10:37:26-16912</td>\n",
       "      <td>scalar</td>\n",
       "      <td>Rete.Pozzo</td>\n",
       "      <td>generation:max</td>\n",
       "      <td>NaN</td>\n",
       "      <td>NaN</td>\n",
       "      <td>0</td>\n",
       "      <td>Rete.Pozzo.generation:max</td>\n",
       "    </tr>\n",
       "    <tr>\n",
       "      <th>238</th>\n",
       "      <td>General-0-20221027-10:37:26-16912</td>\n",
       "      <td>scalar</td>\n",
       "      <td>Rete.Pozzo</td>\n",
       "      <td>delaysVisited:mean</td>\n",
       "      <td>NaN</td>\n",
       "      <td>NaN</td>\n",
       "      <td>0</td>\n",
       "      <td>Rete.Pozzo.delaysVisited:mean</td>\n",
       "    </tr>\n",
       "    <tr>\n",
       "      <th>242</th>\n",
       "      <td>General-0-20221027-10:37:26-16912</td>\n",
       "      <td>scalar</td>\n",
       "      <td>Rete.Pozzo</td>\n",
       "      <td>delaysVisited:max</td>\n",
       "      <td>NaN</td>\n",
       "      <td>NaN</td>\n",
       "      <td>0</td>\n",
       "      <td>Rete.Pozzo.delaysVisited:max</td>\n",
       "    </tr>\n",
       "    <tr>\n",
       "      <th>246</th>\n",
       "      <td>General-0-20221027-10:37:26-16912</td>\n",
       "      <td>scalar</td>\n",
       "      <td>Rete.Pozzo</td>\n",
       "      <td>queuesVisited:mean</td>\n",
       "      <td>NaN</td>\n",
       "      <td>NaN</td>\n",
       "      <td>0.44676409185804</td>\n",
       "      <td>Rete.Pozzo.queuesVisited:mean</td>\n",
       "    </tr>\n",
       "  </tbody>\n",
       "</table>\n",
       "</div>"
      ],
      "text/plain": [
       "                                   run    type      module                name attrname attrvalue             value                          qname\n",
       "230  General-0-20221027-10:37:26-16912  scalar  Rete.Pozzo     generation:mean      NaN       NaN                 0     Rete.Pozzo.generation:mean\n",
       "234  General-0-20221027-10:37:26-16912  scalar  Rete.Pozzo      generation:max      NaN       NaN                 0      Rete.Pozzo.generation:max\n",
       "238  General-0-20221027-10:37:26-16912  scalar  Rete.Pozzo  delaysVisited:mean      NaN       NaN                 0  Rete.Pozzo.delaysVisited:mean\n",
       "242  General-0-20221027-10:37:26-16912  scalar  Rete.Pozzo   delaysVisited:max      NaN       NaN                 0   Rete.Pozzo.delaysVisited:max\n",
       "246  General-0-20221027-10:37:26-16912  scalar  Rete.Pozzo  queuesVisited:mean      NaN       NaN  0.44676409185804  Rete.Pozzo.queuesVisited:mean"
      ]
     },
     "execution_count": 14,
     "metadata": {},
     "output_type": "execute_result"
    }
   ],
   "source": [
    "es_csv['qname'] = es_csv.module + \".\" + es_csv.name\n",
    "es_csv[es_csv.type=='scalar'].head()  # print excerpt"
   ]
  },
  {
   "cell_type": "code",
   "execution_count": 15,
   "id": "51f93c1b",
   "metadata": {},
   "outputs": [
    {
     "data": {
      "text/html": [
       "<div>\n",
       "<style scoped>\n",
       "    .dataframe tbody tr th:only-of-type {\n",
       "        vertical-align: middle;\n",
       "    }\n",
       "\n",
       "    .dataframe tbody tr th {\n",
       "        vertical-align: top;\n",
       "    }\n",
       "\n",
       "    .dataframe thead th {\n",
       "        text-align: right;\n",
       "    }\n",
       "</style>\n",
       "<table border=\"1\" class=\"dataframe\">\n",
       "  <thead>\n",
       "    <tr style=\"text-align: right;\">\n",
       "      <th></th>\n",
       "      <th>run</th>\n",
       "      <th>type</th>\n",
       "      <th>module</th>\n",
       "      <th>name</th>\n",
       "      <th>attrname</th>\n",
       "      <th>attrvalue</th>\n",
       "      <th>value</th>\n",
       "      <th>qname</th>\n",
       "    </tr>\n",
       "  </thead>\n",
       "  <tbody>\n",
       "    <tr>\n",
       "      <th>230</th>\n",
       "      <td>General-0-20221027-10:37:26-16912</td>\n",
       "      <td>scalar</td>\n",
       "      <td>Rete.Pozzo</td>\n",
       "      <td>generation:mean</td>\n",
       "      <td>NaN</td>\n",
       "      <td>NaN</td>\n",
       "      <td>0</td>\n",
       "      <td>Rete.Pozzo.generation:mean</td>\n",
       "    </tr>\n",
       "    <tr>\n",
       "      <th>234</th>\n",
       "      <td>General-0-20221027-10:37:26-16912</td>\n",
       "      <td>scalar</td>\n",
       "      <td>Rete.Pozzo</td>\n",
       "      <td>generation:max</td>\n",
       "      <td>NaN</td>\n",
       "      <td>NaN</td>\n",
       "      <td>0</td>\n",
       "      <td>Rete.Pozzo.generation:max</td>\n",
       "    </tr>\n",
       "    <tr>\n",
       "      <th>238</th>\n",
       "      <td>General-0-20221027-10:37:26-16912</td>\n",
       "      <td>scalar</td>\n",
       "      <td>Rete.Pozzo</td>\n",
       "      <td>delaysVisited:mean</td>\n",
       "      <td>NaN</td>\n",
       "      <td>NaN</td>\n",
       "      <td>0</td>\n",
       "      <td>Rete.Pozzo.delaysVisited:mean</td>\n",
       "    </tr>\n",
       "    <tr>\n",
       "      <th>242</th>\n",
       "      <td>General-0-20221027-10:37:26-16912</td>\n",
       "      <td>scalar</td>\n",
       "      <td>Rete.Pozzo</td>\n",
       "      <td>delaysVisited:max</td>\n",
       "      <td>NaN</td>\n",
       "      <td>NaN</td>\n",
       "      <td>0</td>\n",
       "      <td>Rete.Pozzo.delaysVisited:max</td>\n",
       "    </tr>\n",
       "    <tr>\n",
       "      <th>246</th>\n",
       "      <td>General-0-20221027-10:37:26-16912</td>\n",
       "      <td>scalar</td>\n",
       "      <td>Rete.Pozzo</td>\n",
       "      <td>queuesVisited:mean</td>\n",
       "      <td>NaN</td>\n",
       "      <td>NaN</td>\n",
       "      <td>0.44676409185804</td>\n",
       "      <td>Rete.Pozzo.queuesVisited:mean</td>\n",
       "    </tr>\n",
       "  </tbody>\n",
       "</table>\n",
       "</div>"
      ],
      "text/plain": [
       "                                   run    type      module                name attrname attrvalue             value                          qname\n",
       "230  General-0-20221027-10:37:26-16912  scalar  Rete.Pozzo     generation:mean      NaN       NaN                 0     Rete.Pozzo.generation:mean\n",
       "234  General-0-20221027-10:37:26-16912  scalar  Rete.Pozzo      generation:max      NaN       NaN                 0      Rete.Pozzo.generation:max\n",
       "238  General-0-20221027-10:37:26-16912  scalar  Rete.Pozzo  delaysVisited:mean      NaN       NaN                 0  Rete.Pozzo.delaysVisited:mean\n",
       "242  General-0-20221027-10:37:26-16912  scalar  Rete.Pozzo   delaysVisited:max      NaN       NaN                 0   Rete.Pozzo.delaysVisited:max\n",
       "246  General-0-20221027-10:37:26-16912  scalar  Rete.Pozzo  queuesVisited:mean      NaN       NaN  0.44676409185804  Rete.Pozzo.queuesVisited:mean"
      ]
     },
     "execution_count": 15,
     "metadata": {},
     "output_type": "execute_result"
    }
   ],
   "source": [
    "es_csv = es_csv.assign(qname = es_csv.module + \".\" + es_csv.name)\n",
    "es_csv[es_csv.type=='scalar'].head()"
   ]
  },
  {
   "cell_type": "code",
   "execution_count": 16,
   "id": "03368dc9",
   "metadata": {},
   "outputs": [],
   "source": [
    "del es_csv['qname']\n"
   ]
  },
  {
   "cell_type": "code",
   "execution_count": 17,
   "id": "18d09aa2",
   "metadata": {},
   "outputs": [
    {
     "data": {
      "text/plain": [
       "str"
      ]
     },
     "execution_count": 17,
     "metadata": {},
     "output_type": "execute_result"
    }
   ],
   "source": [
    "type( es_csv[es_csv.type=='scalar'].iloc[0].value )\n"
   ]
  }
 ],
 "metadata": {
  "kernelspec": {
   "display_name": "Python 3 (ipykernel)",
   "language": "python",
   "name": "python3"
  },
  "language_info": {
   "codemirror_mode": {
    "name": "ipython",
    "version": 3
   },
   "file_extension": ".py",
   "mimetype": "text/x-python",
   "name": "python",
   "nbconvert_exporter": "python",
   "pygments_lexer": "ipython3",
   "version": "3.10.0"
  }
 },
 "nbformat": 4,
 "nbformat_minor": 5
}
